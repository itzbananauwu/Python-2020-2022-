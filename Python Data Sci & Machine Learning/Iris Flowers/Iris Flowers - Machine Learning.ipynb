{
 "cells": [
  {
   "cell_type": "code",
   "execution_count": 5,
   "id": "1b6e9d7d",
   "metadata": {},
   "outputs": [],
   "source": [
    "#Author: Terry Su\n",
    "#Date: July 16, 2021\n",
    "#Purpose: Playing with python machine learning with iris flower species/propreties\n",
    "\n",
    "#Typical machine learning procedure\n",
    "#1. import the data\n",
    "#2. clean the data\n",
    "#3. split the data --> training set + test set\n",
    "#4. create a model\n",
    "#5. check the output\n",
    "#6. improve\n",
    "\n",
    "#1/2.\n",
    "from sklearn.datasets import load_iris\n",
    "\n",
    "iris = load_iris()"
   ]
  },
  {
   "cell_type": "code",
   "execution_count": 6,
   "id": "500e1192",
   "metadata": {},
   "outputs": [],
   "source": [
    "X = iris.data #a numpy array\n",
    "y = iris.target\n",
    "\n",
    "feature_names = iris.feature_names\n",
    "target_names = iris.target_names"
   ]
  },
  {
   "cell_type": "code",
   "execution_count": 7,
   "id": "48c63c9b",
   "metadata": {},
   "outputs": [
    {
     "name": "stdout",
     "output_type": "stream",
     "text": [
      "(90, 4)\n",
      "(60, 4)\n"
     ]
    }
   ],
   "source": [
    "#3.\n",
    "from sklearn.model_selection import train_test_split\n",
    "\n",
    "X_train, X_test, y_train, y_test = train_test_split(X, y, test_size = 0.4) #60% train data, %40 test data\n",
    "\n",
    "print(X_train.shape)\n",
    "print(X_test.shape)"
   ]
  },
  {
   "cell_type": "code",
   "execution_count": null,
   "id": "eab849ec",
   "metadata": {},
   "outputs": [],
   "source": []
  }
 ],
 "metadata": {
  "kernelspec": {
   "display_name": "Python 3",
   "language": "python",
   "name": "python3"
  },
  "language_info": {
   "codemirror_mode": {
    "name": "ipython",
    "version": 3
   },
   "file_extension": ".py",
   "mimetype": "text/x-python",
   "name": "python",
   "nbconvert_exporter": "python",
   "pygments_lexer": "ipython3",
   "version": "3.8.8"
  }
 },
 "nbformat": 4,
 "nbformat_minor": 5
}
