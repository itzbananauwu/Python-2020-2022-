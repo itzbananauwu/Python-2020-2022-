{
 "cells": [
  {
   "cell_type": "code",
   "execution_count": 2,
   "id": "1b6e9d7d",
   "metadata": {},
   "outputs": [],
   "source": [
    "#Author: Terry Su\n",
    "#Date: July 16, 2021\n",
    "#Purpose: Playing with python machine learning with iris flower species/propreties\n",
    "\n",
    "#Typical machine learning procedure\n",
    "#1. import the data\n",
    "#2. clean the data\n",
    "#3. split the data --> training set + test set\n",
    "#4. create a model\n",
    "#5. check the output\n",
    "#6. improve\n",
    "\n",
    "#1/2.\n",
    "from sklearn.datasets import load_iris\n",
    "\n",
    "iris = load_iris()"
   ]
  },
  {
   "cell_type": "code",
   "execution_count": 3,
   "id": "500e1192",
   "metadata": {},
   "outputs": [],
   "source": [
    "X = iris.data #a numpy array\n",
    "y = iris.target\n",
    "\n",
    "feature_names = iris.feature_names\n",
    "target_names = iris.target_names"
   ]
  },
  {
   "cell_type": "code",
   "execution_count": 4,
   "id": "48c63c9b",
   "metadata": {},
   "outputs": [
    {
     "name": "stdout",
     "output_type": "stream",
     "text": [
      "(60, 4)\n",
      "(90, 4)\n"
     ]
    }
   ],
   "source": [
    "#3.\n",
    "from sklearn.model_selection import train_test_split\n",
    "\n",
    "X_train, X_test, y_train, y_test = train_test_split(X, y, test_size = 0.6) #60% train data, %40 test data\n",
    "\n",
    "print(X_train.shape)\n",
    "print(X_test.shape)"
   ]
  },
  {
   "cell_type": "code",
   "execution_count": 5,
   "id": "eab849ec",
   "metadata": {},
   "outputs": [],
   "source": [
    "#4. (using K nearest neighbors algorithm to create the model)\n",
    "from sklearn.neighbors import KNeighborsClassifier\n",
    "\n",
    "knn = KNeighborsClassifier(n_neighbors = 3)\n",
    "knn.fit(X_train, y_train)\n",
    "\n",
    "y_predict = knn.predict(X_test)"
   ]
  },
  {
   "cell_type": "code",
   "execution_count": 6,
   "id": "7373d7e8",
   "metadata": {},
   "outputs": [
    {
     "name": "stdout",
     "output_type": "stream",
     "text": [
      "0.9666666666666667\n"
     ]
    }
   ],
   "source": [
    "#5.\n",
    "from sklearn import metrics\n",
    "\n",
    "print(metrics.accuracy_score(y_test, y_predict))"
   ]
  },
  {
   "cell_type": "code",
   "execution_count": 9,
   "id": "da7fd9d6",
   "metadata": {},
   "outputs": [
    {
     "name": "stdout",
     "output_type": "stream",
     "text": [
      "predicted species:  ['versicolor', 'virginica']\n"
     ]
    }
   ],
   "source": [
    "sample = [[3,5,4,2], [2,3,5,4]] #predicting iris species using propreties of unidentified iris flowers \n",
    "#ideally we would also have sample_target = [[correct species 1], [correct species 2]...]\n",
    "\n",
    "predictions = knn.predict(sample)\n",
    "predict_species = [iris.target_names[j] for j in predictions]\n",
    "\n",
    "print('predicted species: ', predict_species)"
   ]
  },
  {
   "cell_type": "code",
   "execution_count": 13,
   "id": "3f2d720b",
   "metadata": {},
   "outputs": [],
   "source": [
    "#saving our model (knn) as a joblib file\n",
    "\n",
    "import joblib\n",
    "joblib.dump(knn, 'mlbrain.joblib')"
   ]
  },
  {
   "cell_type": "code",
   "execution_count": 15,
   "id": "38a38d69",
   "metadata": {},
   "outputs": [
    {
     "data": {
      "text/plain": [
       "array([1, 1, 2, 0, 0, 2, 0, 1, 1, 0, 1, 0, 2, 0, 2, 0, 2, 0, 2, 1, 2, 2,\n",
       "       0, 2, 0, 2, 2, 0, 0, 2, 2, 0, 1, 0, 1, 1, 1, 2, 2, 0, 2, 1, 2, 2,\n",
       "       2, 0, 0, 2, 2, 1, 1, 2, 0, 2, 0, 0, 0, 0, 2, 1, 1, 1, 2, 0, 2, 2,\n",
       "       1, 1, 1, 0, 1, 1, 2, 2, 2, 0, 0, 0, 1, 1, 0, 1, 2, 0, 0, 1, 1, 0,\n",
       "       0, 2])"
      ]
     },
     "execution_count": 15,
     "metadata": {},
     "output_type": "execute_result"
    }
   ],
   "source": [
    "model = joblib.load('mlbrain.joblib')\n",
    "model.predict(X_test)"
   ]
  },
  {
   "cell_type": "code",
   "execution_count": null,
   "id": "f7319990",
   "metadata": {},
   "outputs": [],
   "source": []
  }
 ],
 "metadata": {
  "kernelspec": {
   "display_name": "Python 3",
   "language": "python",
   "name": "python3"
  },
  "language_info": {
   "codemirror_mode": {
    "name": "ipython",
    "version": 3
   },
   "file_extension": ".py",
   "mimetype": "text/x-python",
   "name": "python",
   "nbconvert_exporter": "python",
   "pygments_lexer": "ipython3",
   "version": "3.8.8"
  }
 },
 "nbformat": 4,
 "nbformat_minor": 5
}
